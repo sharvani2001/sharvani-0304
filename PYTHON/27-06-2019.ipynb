{
 "cells": [
  {
   "cell_type": "code",
   "execution_count": 9,
   "metadata": {},
   "outputs": [
    {
     "name": "stdout",
     "output_type": "stream",
     "text": [
      "file is created successfully and data is written\n"
     ]
    }
   ],
   "source": [
    "#function to create a file and write some data\n",
    "def createfile(filename):\n",
    "    f = open(filename,\"w\")\n",
    "    for i in range(10):\n",
    "        f.write(\"this is %d line\\n\" % i)\n",
    "    print(\"file is created successfully and data is written\")\n",
    "    f.close()\n",
    "    return\n",
    "createfile(\"file1.txt\")"
   ]
  },
  {
   "cell_type": "code",
   "execution_count": 10,
   "metadata": {},
   "outputs": [
    {
     "name": "stdout",
     "output_type": "stream",
     "text": [
      "this is 0 line\n",
      "this is 1 line\n",
      "this is 2 line\n",
      "this is 3 line\n",
      "this is 4 line\n",
      "this is 5 line\n",
      "this is 6 line\n",
      "this is 7 line\n",
      "this is 8 line\n",
      "this is 9 line\n",
      "\n"
     ]
    }
   ],
   "source": [
    "#function for reading the file data\n",
    "def readFile(filename):\n",
    "    f = open(filename,\"r\")\n",
    "    if f.mode == \"r\":\n",
    "        x = f.read()\n",
    "        print(x)\n",
    "    f.close()\n",
    "    return\n",
    "readFile(\"file1.txt\")"
   ]
  },
  {
   "cell_type": "code",
   "execution_count": 11,
   "metadata": {},
   "outputs": [],
   "source": [
    "# data to append\n",
    "# function to append the data  to existing file\n",
    "def appenddata(filename):\n",
    "    f=open(filename,\"a\")\n",
    "    f.write(\"newline 1\\n\")\n",
    "    f.write(\"newline\")\n",
    "    return\n",
    "appenddata(\"file1.txt\")"
   ]
  },
  {
   "cell_type": "code",
   "execution_count": 12,
   "metadata": {},
   "outputs": [
    {
     "name": "stdout",
     "output_type": "stream",
     "text": [
      " Volume in drive C is Windows\n",
      " Volume Serial Number is 42AB-2336\n",
      "\n",
      " Directory of C:\\Users\\SHARVANI\n",
      "\n",
      "06/27/2019  11:05 AM    <DIR>          .\n",
      "06/27/2019  11:05 AM    <DIR>          ..\n",
      "05/10/2019  05:05 PM    <DIR>          .anyutube\n",
      "01/29/2019  05:37 AM    <DIR>          .idlerc\n",
      "06/27/2019  09:19 AM    <DIR>          .ipynb_checkpoints\n",
      "06/21/2019  03:13 PM    <DIR>          .ipython\n",
      "06/22/2019  09:38 AM    <DIR>          .jupyter\n",
      "06/27/2019  11:05 AM             4,886 27-06-2019.ipynb\n",
      "06/13/2019  11:27 AM    <DIR>          3D Objects\n",
      "06/21/2019  03:08 PM    <DIR>          Anaconda3\n",
      "06/13/2019  11:27 AM    <DIR>          Contacts\n",
      "06/02/2019  07:29 PM    <DIR>          Creative Cloud Files\n",
      "06/26/2019  10:43 AM    <DIR>          Desktop\n",
      "06/23/2019  04:11 PM    <DIR>          Documents\n",
      "06/25/2019  09:42 AM    <DIR>          Downloads\n",
      "06/13/2019  11:27 AM    <DIR>          Favorites\n",
      "06/27/2019  11:27 AM               178 file1.txt\n",
      "06/19/2019  12:51 PM    <DIR>          gitam-june-2019\n",
      "06/13/2019  11:27 AM    <DIR>          Links\n",
      "06/13/2019  11:27 AM    <DIR>          Music\n",
      "06/16/2019  10:51 AM    <DIR>          OneDrive\n",
      "06/13/2019  11:27 AM    <DIR>          Pictures\n",
      "06/13/2019  11:27 AM    <DIR>          Saved Games\n",
      "06/13/2019  11:27 AM    <DIR>          Searches\n",
      "06/13/2019  11:27 AM    <DIR>          Videos\n",
      "               2 File(s)          5,064 bytes\n",
      "              23 Dir(s)  421,007,360,000 bytes free\n"
     ]
    }
   ],
   "source": [
    "ls"
   ]
  },
  {
   "cell_type": "code",
   "execution_count": 17,
   "metadata": {},
   "outputs": [
    {
     "name": "stdout",
     "output_type": "stream",
     "text": [
      "10\n"
     ]
    }
   ],
   "source": [
    "#word count using file I/O python\n",
    "def dataAnalysisWordCount(filename,word):\n",
    "    f = open(filename,\"r\")\n",
    "    if f.mode == \"r\":\n",
    "        x = f.read()\n",
    "        lst = x.split()\n",
    "    cnt = lst.count(word)\n",
    "    return cnt\n",
    "print(dataAnalysisWordCount(\"file1.txt\",\"line\"))"
   ]
  },
  {
   "cell_type": "code",
   "execution_count": 22,
   "metadata": {},
   "outputs": [
    {
     "name": "stdout",
     "output_type": "stream",
     "text": [
      "167\n"
     ]
    }
   ],
   "source": [
    "# count of characters in the file\n",
    "def CountCharacter(filename):\n",
    "    f = open(filename,\"r\")\n",
    "    if f.mode == \"r\":\n",
    "        x = f.read()\n",
    "        lst = list(x)\n",
    "    return len(lst)\n",
    "print(CountCharacter(\"file1.txt\"))"
   ]
  },
  {
   "cell_type": "code",
   "execution_count": 29,
   "metadata": {},
   "outputs": [
    {
     "data": {
      "text/plain": [
       "0"
      ]
     },
     "execution_count": 29,
     "metadata": {},
     "output_type": "execute_result"
    }
   ],
   "source": [
    "#Function to count the upper case character from the given file\n",
    "def UpperCaseCount(filename):\n",
    "    cntUpper =0\n",
    "    f = open(filename,\"r\")\n",
    "    if f.mode == \"r\":\n",
    "        x = f.read()\n",
    "        lst = list(x)\n",
    "    for i in lst:\n",
    "        if i.isupper():\n",
    "            cntUpper += 1\n",
    "    return cntUpper\n",
    "UpperCaseCount(\"file1.txt\")"
   ]
  },
  {
   "cell_type": "code",
   "execution_count": 1,
   "metadata": {},
   "outputs": [
    {
     "data": {
      "text/plain": [
       "12"
      ]
     },
     "execution_count": 1,
     "metadata": {},
     "output_type": "execute_result"
    }
   ],
   "source": [
    "# Function to count of lines in given file\n",
    "def countlines(filename):\n",
    "    f = open(filename,\"r\")\n",
    "    if f.mode == \"r\":\n",
    "        x = f.read()\n",
    "        lst = x.split(\"\\n\")\n",
    "    return len(lst)\n",
    "\n",
    "countlines(\"file1.txt\")"
   ]
  },
  {
   "cell_type": "markdown",
   "metadata": {},
   "source": [
    "# regular expressions\n",
    "#### pattern Matching\n",
    "#### Symbolic Notation of a pattern\n",
    "#### Pattern(RE)represents the set of the values that a given pattern \n",
    " \n",
    "##### ~[0-9] --> Any Digit \n",
    "##### ~[a-z]--> Any lower case characters\n",
    "##### ~[A-Z] --> Any upper case characters\n",
    "##### ~[2468] --> All the single digit multiples of 2\n",
    "##### ~^[0-9]{1} $ --> Only single digit number\n",
    "....cap symbol is used for start of regular expression\n",
    "....dollar symbol is used to end of the reular expression\n",
    "^[0-9]{3}$ --> Regular Expression will accept only three digit number\n",
    "#### ^[a-z]{5}$ --> It only accepts the character string that to lower case characters"
   ]
  },
  {
   "cell_type": "code",
   "execution_count": 1,
   "metadata": {},
   "outputs": [
    {
     "name": "stdout",
     "output_type": "stream",
     "text": [
      "True\n",
      "False\n"
     ]
    }
   ],
   "source": [
    "import re\n",
    "def phoneNumberValidate(phone):\n",
    "    pattern = '^[6-9][0-9]{9}$'\n",
    "    phone = str(phone)\n",
    "    if re.match(pattern,phone):\n",
    "        return True\n",
    "    return False\n",
    "print(phoneNumberValidate(9346307196))\n",
    "print(phoneNumberValidate(760362))"
   ]
  },
  {
   "cell_type": "markdown",
   "metadata": {},
   "source": [
    "### username:\n",
    "              * Length will be :[6-15]\n",
    "              * No spl chars apart from_\n",
    "              * Should not begin and end with_\n",
    "              * Character set : All digits and lower case alpha\n",
    "### Domain Name:\n",
    "              * Length of domain:[3,18] \n",
    "              * No spl characters\n",
    "              * Characters set: All digits and lower case  alpha\n",
    "### Extension :\n",
    "              * Length of domain:[2,4]\n",
    "              * No spl characters\n",
    "              * Characters set: Lower case characters \n"
   ]
  },
  {
   "cell_type": "code",
   "execution_count": 20,
   "metadata": {},
   "outputs": [
    {
     "name": "stdout",
     "output_type": "stream",
     "text": [
      "True\n",
      "False\n"
     ]
    }
   ],
   "source": [
    "def validateEmailID(email):\n",
    "    pattern = \"^[0-9a-z][0-9a-z_.]{4,13}[0-9a-z][@][a-z0-9]{3,18}[.][a-z]{2,4}$\"\n",
    "    if re.match(pattern,email):\n",
    "        return True\n",
    "    return False\n",
    "print(validateEmailID(\"221810304044@gmail.com\"))\n",
    "print(validateEmailID(\"sharvanipechetti3@gmail.com\"))"
   ]
  },
  {
   "cell_type": "markdown",
   "metadata": {},
   "source": [
    "## regular expression -- password\n",
    "## parameters : [6-15]\n",
    "## accept lower case, uppercase, digits,spl symbols(@,$,#,!)"
   ]
  },
  {
   "cell_type": "code",
   "execution_count": null,
   "metadata": {},
   "outputs": [],
   "source": []
  }
 ],
 "metadata": {
  "kernelspec": {
   "display_name": "Python 3",
   "language": "python",
   "name": "python3"
  },
  "language_info": {
   "codemirror_mode": {
    "name": "ipython",
    "version": 3
   },
   "file_extension": ".py",
   "mimetype": "text/x-python",
   "name": "python",
   "nbconvert_exporter": "python",
   "pygments_lexer": "ipython3",
   "version": "3.7.3"
  }
 },
 "nbformat": 4,
 "nbformat_minor": 2
}
